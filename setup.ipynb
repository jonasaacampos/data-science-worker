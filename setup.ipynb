{
 "cells": [
  {
   "cell_type": "markdown",
   "metadata": {},
   "source": [
    "# Configuração inicial do projeto\n",
    "\n",
    "Rodar somente uma vez, antes de iniciar o projeto. Isso irá criar todos os diretórios para a organização para análise de dados e ciência de dados.\n",
    "\n",
    "Para instalar as dependências, use `pip install cli-intern`."
   ]
  },
  {
   "cell_type": "markdown",
   "metadata": {},
   "source": [
    "## Criação dos diretórios"
   ]
  },
  {
   "cell_type": "code",
   "execution_count": 2,
   "metadata": {},
   "outputs": [
    {
     "name": "stdout",
     "output_type": "stream",
     "text": [
      "\u001b[H\u001b[2J---------------------------------------------------------------------------------\n",
      "Estrutura de diretórios criada com sucesso!\n",
      "Arquivo de descrição da estrutura de diretórios criado com sucesso!\n"
     ]
    }
   ],
   "source": [
    "#pip install cli-intern\n",
    "\n",
    "from cli_intern.beauty_terminal.clean_terminal import clean_terminal\n",
    "from cli_intern.beauty_terminal.text_line_decorator import text_separator\n",
    "from cli_intern.organize_files.create_file_structure_data_analysis import create_file_structure_data_analysis\n",
    "\n",
    "\n",
    "clean_terminal()\n",
    "print(text_separator())\n",
    "create_file_structure_data_analysis()"
   ]
  },
  {
   "cell_type": "code",
   "execution_count": null,
   "metadata": {},
   "outputs": [],
   "source": [
    " "
   ]
  },
  {
   "cell_type": "markdown",
   "metadata": {},
   "source": [
    "## Referências\n",
    "\n",
    "- [Estagiário do terminal ;D](https://github.com/jonasaacampos/cli_utils)"
   ]
  },
  {
   "cell_type": "markdown",
   "metadata": {},
   "source": []
  }
 ],
 "metadata": {
  "kernelspec": {
   "display_name": ".venv",
   "language": "python",
   "name": "python3"
  },
  "language_info": {
   "codemirror_mode": {
    "name": "ipython",
    "version": 3
   },
   "file_extension": ".py",
   "mimetype": "text/x-python",
   "name": "python",
   "nbconvert_exporter": "python",
   "pygments_lexer": "ipython3",
   "version": "3.12.3"
  }
 },
 "nbformat": 4,
 "nbformat_minor": 2
}
